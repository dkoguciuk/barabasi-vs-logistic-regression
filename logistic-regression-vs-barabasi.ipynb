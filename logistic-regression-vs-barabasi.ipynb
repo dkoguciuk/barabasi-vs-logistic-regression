{
 "cells": [
  {
   "cell_type": "code",
   "execution_count": null,
   "metadata": {},
   "outputs": [],
   "source": [
    "import torch\n",
    "import torchvision\n",
    "\n",
    "import torch.nn as nn\n",
    "import torch.nn.functional as F\n",
    "import torch.optim as optim\n",
    "from torch.autograd import Variable"
   ]
  },
  {
   "cell_type": "markdown",
   "metadata": {},
   "source": [
    "# Hparams"
   ]
  },
  {
   "cell_type": "code",
   "execution_count": null,
   "metadata": {},
   "outputs": [],
   "source": [
    "epochs = 20\n",
    "input_dim = 784\n",
    "output_dim = 10\n",
    "\n",
    "batch_size_train = 64\n",
    "batch_size_test = 1000\n",
    "\n",
    "lr_rate = 0.01"
   ]
  },
  {
   "cell_type": "markdown",
   "metadata": {},
   "source": [
    "# Prepare dataloaders"
   ]
  },
  {
   "cell_type": "code",
   "execution_count": null,
   "metadata": {},
   "outputs": [],
   "source": [
    "train_loader = torch.utils.data.DataLoader(torchvision.datasets.MNIST('data', train=True, download=True,\n",
    "                                                                      transform=torchvision.transforms.Compose([\n",
    "                                                                          torchvision.transforms.ToTensor(),\n",
    "                                                                          torchvision.transforms.Normalize((0.1307,), (0.3081,))])),\n",
    "                                           batch_size=batch_size_train, shuffle=True)\n",
    "\n",
    "test_loader = torch.utils.data.DataLoader(torchvision.datasets.MNIST('data', train=False, download=True,\n",
    "                                                                     transform=torchvision.transforms.Compose([\n",
    "                                                                         torchvision.transforms.ToTensor(),\n",
    "                                                                         torchvision.transforms.Normalize((0.1307,), (0.3081,))])),\n",
    "                                          batch_size=batch_size_test, shuffle=True)"
   ]
  },
  {
   "cell_type": "markdown",
   "metadata": {},
   "source": [
    "# Define logistic regression model"
   ]
  },
  {
   "cell_type": "code",
   "execution_count": 4,
   "metadata": {},
   "outputs": [],
   "source": [
    "class LogisticRegression(torch.nn.Module):\n",
    "    def __init__(self, input_dim, output_dim):\n",
    "        super(LogisticRegression, self).__init__()\n",
    "        self.linear = torch.nn.Linear(input_dim, output_dim)\n",
    "\n",
    "    def forward(self, x):\n",
    "        outputs = self.linear(x)\n",
    "        return outputs"
   ]
  },
  {
   "cell_type": "markdown",
   "metadata": {},
   "source": [
    "# Learning"
   ]
  },
  {
   "cell_type": "code",
   "execution_count": 8,
   "metadata": {},
   "outputs": [
    {
     "name": "stdout",
     "output_type": "stream",
     "text": [
      "At birth accuracy: 11 %\n",
      "After epoch: 0. Loss: 0.3856881856918335. Accuracy: 90%.\n",
      "After epoch: 1. Loss: 0.3124147653579712. Accuracy: 91%.\n",
      "After epoch: 2. Loss: 0.1901261806488037. Accuracy: 91%.\n",
      "After epoch: 3. Loss: 0.1867780089378357. Accuracy: 91%.\n",
      "After epoch: 4. Loss: 0.2631455659866333. Accuracy: 91%.\n",
      "After epoch: 5. Loss: 0.5071932673454285. Accuracy: 92%.\n",
      "After epoch: 6. Loss: 0.14333565533161163. Accuracy: 91%.\n",
      "Logistic regression model acc: 92 %\n"
     ]
    }
   ],
   "source": [
    "def learn(model):\n",
    "    \n",
    "    criterion = torch.nn.CrossEntropyLoss()\n",
    "    optimizer = torch.optim.SGD(model.parameters(), lr=lr_rate)\n",
    "\n",
    "    # calculate Accuracy\n",
    "    correct = 0\n",
    "    total = 0\n",
    "    for images, labels in test_loader:\n",
    "        images = Variable(images.view(-1, 28*28))\n",
    "        outputs = model(images)\n",
    "        _, predicted = torch.max(outputs.data, 1)\n",
    "        total+= labels.size(0)\n",
    "        correct+= (predicted == labels).sum()\n",
    "    accuracy = 100 * correct/total\n",
    "    print(\"At birth accuracy: {} %\".format(accuracy.item()))\n",
    "    \n",
    "    last_acc = 0.\n",
    "    for epoch in range(int(epochs)):\n",
    "        for i, (images, labels) in enumerate(train_loader):\n",
    "            images = Variable(images.view(-1, 28 * 28))\n",
    "            labels = Variable(labels)\n",
    "\n",
    "            optimizer.zero_grad()\n",
    "            outputs = model(images)\n",
    "            loss = criterion(outputs, labels)\n",
    "            loss.backward()\n",
    "            optimizer.step()\n",
    "            \n",
    "        # calculate Accuracy\n",
    "        correct = 0\n",
    "        total = 0\n",
    "        for images, labels in test_loader:\n",
    "            images = Variable(images.view(-1, 28*28))\n",
    "            outputs = model(images)\n",
    "            _, predicted = torch.max(outputs.data, 1)\n",
    "            total+= labels.size(0)\n",
    "            correct+= (predicted == labels).sum()\n",
    "        accuracy = 100 * correct/total\n",
    "        print(\"After epoch: {}. Loss: {}. Accuracy: {}%.\".format(epoch, loss.item(), accuracy))\n",
    "        \n",
    "        if last_acc > accuracy:\n",
    "            return last_acc.item()\n",
    "        else:\n",
    "            last_acc = accuracy\n",
    "    return last_acc.item()\n",
    "            \n",
    "            \n",
    "model = LogisticRegression(input_dim, output_dim)\n",
    "logistic_acc = learn(model)\n",
    "print('Logistic regression model acc: {} %'.format(logistic_acc))"
   ]
  },
  {
   "cell_type": "markdown",
   "metadata": {},
   "source": [
    "# Barabasi model"
   ]
  },
  {
   "cell_type": "code",
   "execution_count": 9,
   "metadata": {},
   "outputs": [],
   "source": [
    "class BarabasiRegression(torch.nn.Module):\n",
    "    def __init__(self, input_dim, genes_dim, output_dim):\n",
    "        super(BarabasiRegression, self).__init__()\n",
    "        self.xi = torch.nn.Linear(input_dim, genes_dim, bias=False)\n",
    "        self.o = torch.nn.Linear(genes_dim, genes_dim, bias=False)\n",
    "        self.xo = torch.nn.Linear(genes_dim, output_dim, bias=True)\n",
    "        self.xo.requires_grad = False\n",
    "\n",
    "    def forward(self, x):\n",
    "        outputs = self.xo(self.o(self.xi(x)))\n",
    "        return outputs"
   ]
  },
  {
   "cell_type": "code",
   "execution_count": 13,
   "metadata": {},
   "outputs": [
    {
     "name": "stdout",
     "output_type": "stream",
     "text": [
      "At birth accuracy: 7 %\n",
      "After epoch: 0. Loss: 1.7259771823883057. Accuracy: 27%.\n",
      "After epoch: 1. Loss: 1.6338917016983032. Accuracy: 30%.\n",
      "After epoch: 2. Loss: 1.5750901699066162. Accuracy: 32%.\n",
      "After epoch: 3. Loss: 1.5732593536376953. Accuracy: 33%.\n",
      "After epoch: 4. Loss: 1.564858317375183. Accuracy: 34%.\n",
      "After epoch: 5. Loss: 1.527112364768982. Accuracy: 34%.\n",
      "After epoch: 6. Loss: 1.8827240467071533. Accuracy: 36%.\n",
      "After epoch: 7. Loss: 1.5211623907089233. Accuracy: 36%.\n",
      "After epoch: 8. Loss: 1.5618678331375122. Accuracy: 37%.\n",
      "After epoch: 9. Loss: 1.753145456314087. Accuracy: 38%.\n",
      "After epoch: 10. Loss: 1.55521821975708. Accuracy: 38%.\n",
      "After epoch: 11. Loss: 1.619829535484314. Accuracy: 37%.\n",
      "Barabasi model with 1 genes acc: 38 %\n"
     ]
    }
   ],
   "source": [
    "model_b1 = BarabasiRegression(input_dim, 1, output_dim)\n",
    "barabasi_1 = learn(model_b1)\n",
    "print('Barabasi model with {} genes acc: {} %'.format(1, barabasi_1))"
   ]
  },
  {
   "cell_type": "code",
   "execution_count": 14,
   "metadata": {},
   "outputs": [
    {
     "name": "stdout",
     "output_type": "stream",
     "text": [
      "At birth accuracy: 10 %\n",
      "After epoch: 0. Loss: 1.8842389583587646. Accuracy: 26%.\n",
      "After epoch: 1. Loss: 1.8064672946929932. Accuracy: 23%.\n",
      "At birth accuracy: 11 %\n",
      "After epoch: 0. Loss: 1.4831790924072266. Accuracy: 46%.\n",
      "After epoch: 1. Loss: 1.2193195819854736. Accuracy: 53%.\n",
      "After epoch: 2. Loss: 1.0885307788848877. Accuracy: 57%.\n",
      "After epoch: 3. Loss: 1.0486156940460205. Accuracy: 58%.\n",
      "After epoch: 4. Loss: 1.279468297958374. Accuracy: 60%.\n",
      "After epoch: 5. Loss: 0.9607208967208862. Accuracy: 61%.\n",
      "After epoch: 6. Loss: 1.3377606868743896. Accuracy: 60%.\n",
      "At birth accuracy: 10 %\n",
      "After epoch: 0. Loss: 1.1107027530670166. Accuracy: 70%.\n",
      "After epoch: 1. Loss: 1.0123831033706665. Accuracy: 75%.\n",
      "After epoch: 2. Loss: 0.5513543486595154. Accuracy: 76%.\n",
      "After epoch: 3. Loss: 0.6114587187767029. Accuracy: 77%.\n",
      "After epoch: 4. Loss: 0.8947972059249878. Accuracy: 77%.\n",
      "After epoch: 5. Loss: 0.8547793030738831. Accuracy: 77%.\n",
      "After epoch: 6. Loss: 0.628029465675354. Accuracy: 77%.\n",
      "After epoch: 7. Loss: 0.5241570472717285. Accuracy: 77%.\n",
      "After epoch: 8. Loss: 0.8954342007637024. Accuracy: 77%.\n",
      "After epoch: 9. Loss: 0.6098434925079346. Accuracy: 78%.\n",
      "After epoch: 10. Loss: 1.1903846263885498. Accuracy: 78%.\n",
      "After epoch: 11. Loss: 0.47116297483444214. Accuracy: 78%.\n",
      "After epoch: 12. Loss: 0.9777640104293823. Accuracy: 78%.\n",
      "After epoch: 13. Loss: 0.7515429258346558. Accuracy: 78%.\n",
      "After epoch: 14. Loss: 0.7661060094833374. Accuracy: 78%.\n",
      "After epoch: 15. Loss: 0.46004122495651245. Accuracy: 78%.\n",
      "After epoch: 16. Loss: 0.7926708459854126. Accuracy: 78%.\n",
      "After epoch: 17. Loss: 0.9148175716400146. Accuracy: 78%.\n",
      "After epoch: 18. Loss: 0.48650315403938293. Accuracy: 79%.\n",
      "After epoch: 19. Loss: 0.7188814878463745. Accuracy: 79%.\n",
      "At birth accuracy: 14 %\n",
      "After epoch: 0. Loss: 0.7347491979598999. Accuracy: 78%.\n",
      "After epoch: 1. Loss: 0.6411325335502625. Accuracy: 82%.\n",
      "After epoch: 2. Loss: 0.6089397668838501. Accuracy: 84%.\n",
      "After epoch: 3. Loss: 0.26398107409477234. Accuracy: 84%.\n",
      "After epoch: 4. Loss: 0.7246513366699219. Accuracy: 85%.\n",
      "After epoch: 5. Loss: 0.3399272859096527. Accuracy: 85%.\n",
      "After epoch: 6. Loss: 0.1920398324728012. Accuracy: 85%.\n",
      "After epoch: 7. Loss: 0.27241000533103943. Accuracy: 86%.\n",
      "After epoch: 8. Loss: 0.4430869519710541. Accuracy: 86%.\n",
      "After epoch: 9. Loss: 0.915005087852478. Accuracy: 86%.\n",
      "After epoch: 10. Loss: 0.5562729239463806. Accuracy: 86%.\n",
      "After epoch: 11. Loss: 0.4852483868598938. Accuracy: 87%.\n",
      "After epoch: 12. Loss: 0.3187352418899536. Accuracy: 87%.\n",
      "After epoch: 13. Loss: 0.5695747137069702. Accuracy: 86%.\n",
      "At birth accuracy: 14 %\n",
      "After epoch: 0. Loss: 0.6458178758621216. Accuracy: 77%.\n",
      "After epoch: 1. Loss: 0.5963268280029297. Accuracy: 84%.\n",
      "After epoch: 2. Loss: 0.6181778907775879. Accuracy: 86%.\n",
      "After epoch: 3. Loss: 0.9744527339935303. Accuracy: 88%.\n",
      "After epoch: 4. Loss: 0.39631032943725586. Accuracy: 88%.\n",
      "After epoch: 5. Loss: 0.6430917382240295. Accuracy: 88%.\n",
      "After epoch: 6. Loss: 0.3693977892398834. Accuracy: 88%.\n",
      "After epoch: 7. Loss: 0.3800899088382721. Accuracy: 88%.\n",
      "After epoch: 8. Loss: 0.23850783705711365. Accuracy: 88%.\n",
      "After epoch: 9. Loss: 0.5996165871620178. Accuracy: 89%.\n",
      "After epoch: 10. Loss: 0.3520604968070984. Accuracy: 88%.\n",
      "At birth accuracy: 10 %\n",
      "After epoch: 0. Loss: 0.715508222579956. Accuracy: 78%.\n",
      "After epoch: 1. Loss: 0.39973214268684387. Accuracy: 84%.\n",
      "After epoch: 2. Loss: 0.2412126362323761. Accuracy: 87%.\n",
      "After epoch: 3. Loss: 0.1958840787410736. Accuracy: 88%.\n",
      "After epoch: 4. Loss: 0.3067720830440521. Accuracy: 89%.\n",
      "After epoch: 5. Loss: 0.20410531759262085. Accuracy: 89%.\n",
      "After epoch: 6. Loss: 0.44116339087486267. Accuracy: 89%.\n",
      "After epoch: 7. Loss: 0.4239555597305298. Accuracy: 90%.\n",
      "After epoch: 8. Loss: 0.20881959795951843. Accuracy: 90%.\n",
      "After epoch: 9. Loss: 0.2406914383172989. Accuracy: 90%.\n",
      "After epoch: 10. Loss: 0.11729509383440018. Accuracy: 90%.\n",
      "After epoch: 11. Loss: 0.12040133774280548. Accuracy: 90%.\n",
      "After epoch: 12. Loss: 0.11549440771341324. Accuracy: 90%.\n",
      "After epoch: 13. Loss: 0.470499724149704. Accuracy: 90%.\n",
      "After epoch: 14. Loss: 0.5640950798988342. Accuracy: 90%.\n",
      "After epoch: 15. Loss: 0.20462511479854584. Accuracy: 90%.\n",
      "After epoch: 16. Loss: 0.15932825207710266. Accuracy: 90%.\n",
      "After epoch: 17. Loss: 0.3917306959629059. Accuracy: 90%.\n",
      "After epoch: 18. Loss: 0.34664830565452576. Accuracy: 90%.\n",
      "After epoch: 19. Loss: 0.26299190521240234. Accuracy: 90%.\n",
      "At birth accuracy: 8 %\n",
      "After epoch: 0. Loss: 0.8523194193840027. Accuracy: 86%.\n",
      "After epoch: 1. Loss: 0.3701082170009613. Accuracy: 88%.\n",
      "After epoch: 2. Loss: 0.2712143659591675. Accuracy: 89%.\n",
      "After epoch: 3. Loss: 0.5542031526565552. Accuracy: 89%.\n",
      "After epoch: 4. Loss: 0.3097103238105774. Accuracy: 90%.\n",
      "After epoch: 5. Loss: 0.24757462739944458. Accuracy: 90%.\n",
      "After epoch: 6. Loss: 0.39907392859458923. Accuracy: 90%.\n",
      "After epoch: 7. Loss: 0.9588709473609924. Accuracy: 90%.\n",
      "After epoch: 8. Loss: 0.3239728808403015. Accuracy: 90%.\n",
      "After epoch: 9. Loss: 0.44456514716148376. Accuracy: 91%.\n",
      "After epoch: 10. Loss: 0.1273045539855957. Accuracy: 91%.\n",
      "After epoch: 11. Loss: 0.33687421679496765. Accuracy: 91%.\n",
      "After epoch: 12. Loss: 0.38740015029907227. Accuracy: 91%.\n",
      "After epoch: 13. Loss: 0.14626219868659973. Accuracy: 91%.\n",
      "After epoch: 14. Loss: 0.45633745193481445. Accuracy: 91%.\n",
      "After epoch: 15. Loss: 0.3485507071018219. Accuracy: 91%.\n",
      "After epoch: 16. Loss: 0.4335780739784241. Accuracy: 91%.\n",
      "After epoch: 17. Loss: 0.3255402743816376. Accuracy: 91%.\n",
      "After epoch: 18. Loss: 0.16228832304477692. Accuracy: 91%.\n",
      "After epoch: 19. Loss: 0.5435892939567566. Accuracy: 91%.\n",
      "At birth accuracy: 9 %\n",
      "After epoch: 0. Loss: 0.4839610457420349. Accuracy: 87%.\n",
      "After epoch: 1. Loss: 0.3393590748310089. Accuracy: 89%.\n",
      "After epoch: 2. Loss: 0.4340746998786926. Accuracy: 90%.\n",
      "After epoch: 3. Loss: 0.44062498211860657. Accuracy: 90%.\n",
      "After epoch: 4. Loss: 0.4484451711177826. Accuracy: 91%.\n",
      "After epoch: 5. Loss: 0.11514512449502945. Accuracy: 91%.\n",
      "After epoch: 6. Loss: 0.12334276735782623. Accuracy: 91%.\n",
      "After epoch: 7. Loss: 0.32244011759757996. Accuracy: 91%.\n",
      "After epoch: 8. Loss: 0.21827679872512817. Accuracy: 91%.\n",
      "After epoch: 9. Loss: 0.2717902958393097. Accuracy: 91%.\n",
      "After epoch: 10. Loss: 0.08376523852348328. Accuracy: 91%.\n",
      "After epoch: 11. Loss: 0.07329194247722626. Accuracy: 91%.\n",
      "After epoch: 12. Loss: 0.22943775355815887. Accuracy: 91%.\n",
      "After epoch: 13. Loss: 0.22337870299816132. Accuracy: 91%.\n",
      "After epoch: 14. Loss: 0.20522885024547577. Accuracy: 92%.\n",
      "After epoch: 15. Loss: 0.1435522884130478. Accuracy: 92%.\n",
      "After epoch: 16. Loss: 0.07926443219184875. Accuracy: 92%.\n",
      "After epoch: 17. Loss: 0.35777461528778076. Accuracy: 92%.\n",
      "After epoch: 18. Loss: 0.2217569798231125. Accuracy: 92%.\n",
      "After epoch: 19. Loss: 0.16796648502349854. Accuracy: 92%.\n"
     ]
    }
   ],
   "source": [
    "barabasi_accuracies = []\n",
    "for genes_no in range(1, 9):\n",
    "    barabasi_acc = learn(BarabasiRegression(input_dim, genes_no, output_dim))\n",
    "    barabasi_accuracies.append(barabasi_acc)"
   ]
  },
  {
   "cell_type": "markdown",
   "metadata": {},
   "source": [
    "# Visualization"
   ]
  },
  {
   "cell_type": "code",
   "execution_count": 24,
   "metadata": {},
   "outputs": [
    {
     "data": {
      "image/png": "[encoded data removed]",
      "text/plain": [
       "<Figure size 720x720 with 1 Axes>"
      ]
     },
     "metadata": {
      "needs_background": "light"
     },
     "output_type": "display_data"
    }
   ],
   "source": [
    "import numpy as np\n",
    "import matplotlib.pyplot as plt\n",
    "\n",
    "plt.figure(figsize=(10, 10))\n",
    "plt.plot(np.arange(1, 9), [logistic_acc]*8, label='logistic_regression')\n",
    "plt.plot(np.arange(1, 9), barabasi_accuracies, label='barabasi_regression')\n",
    "plt.legend()\n",
    "plt.show()"
   ]
  },
  {
   "cell_type": "code",
   "execution_count": null,
   "metadata": {},
   "outputs": [],
   "source": []
  }
 ],
 "metadata": {
  "kernelspec": {
   "display_name": "Python 3",
   "language": "python",
   "name": "python3"
  },
  "language_info": {
   "codemirror_mode": {
    "name": "ipython",
    "version": 3
   },
   "file_extension": ".py",
   "mimetype": "text/x-python",
   "name": "python",
   "nbconvert_exporter": "python",
   "pygments_lexer": "ipython3",
   "version": "3.6.9"
  }
 },
 "nbformat": 4,
 "nbformat_minor": 4
}
